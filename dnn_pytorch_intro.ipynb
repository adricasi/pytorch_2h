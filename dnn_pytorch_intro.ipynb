{
  "nbformat": 4,
  "nbformat_minor": 0,
  "metadata": {
    "colab": {
      "name": "dnn_pytorch_intro.ipynb",
      "provenance": [],
      "collapsed_sections": [],
      "include_colab_link": true
    },
    "kernelspec": {
      "name": "python3",
      "display_name": "Python 3"
    },
    "accelerator": "GPU"
  },
  "cells": [
    {
      "cell_type": "markdown",
      "metadata": {
        "id": "view-in-github",
        "colab_type": "text"
      },
      "source": [
        "<a href=\"https://colab.research.google.com/github/depthtest/pytorch_2h/blob/master/dnn_pytorch_intro.ipynb\" target=\"_parent\"><img src=\"https://colab.research.google.com/assets/colab-badge.svg\" alt=\"Open In Colab\"/></a>"
      ]
    },
    {
      "cell_type": "markdown",
      "metadata": {
        "id": "fn52EGF8TxYF"
      },
      "source": [
        "# (_Deep_) Neural Networks"
      ]
    },
    {
      "cell_type": "markdown",
      "metadata": {
        "id": "50V89jcwop1s"
      },
      "source": [
        "## What is a Neural Network\n",
        "\n",
        "### Inspired by the biological Neuron\n",
        "\n",
        "![Biological neuron](https://upload.wikimedia.org/wikipedia/commons/thumb/b/b5/Neuron.svg/1024px-Neuron.svg.png)\n",
        "\n",
        "### A Neuron (Perceptron) from a Neural Network\n",
        "\n",
        "![Perceptron](https://miro.medium.com/max/700/1*n6sJ4yZQzwKL9wnF5wnVNg.png)\n",
        "\n",
        "### If we stack multiple perceptrons in layers\n",
        "\n",
        "![multilayer perceptron](https://depthtest.github.io/content/170100_neural_rsc/neural_net2.jpeg)\n",
        "\n",
        "If each neuron layer is represented by a function $f_i$ that operates on vectors, then the multilayer combination is a composition of functions $y=f_3(f_2(f_1(\\mathbf{x})))$, being $y$ the result of the feedforward network, and $\\mathbf{x}$ the input in vectorial notation.\n",
        "\n",
        "With multiple layers hidden, we now have a **Deep Neural Network**.\n",
        "\n",
        "## So, NNs are function approximators\n",
        "Through the composition of simple (non-linear) functions we can achieve arbitrarily complex functions\n",
        "\n",
        "**BUT**\n",
        "\n",
        "How do we define those functions?\n",
        "\n",
        "## Parameters\n",
        "By changing the weights. \n",
        "\n",
        "The weights in the neurons are the parameters to be learned during training because they mark the behaviour of the whole function defined by the network.\n"
      ]
    },
    {
      "cell_type": "markdown",
      "metadata": {
        "id": "UdeE--zXvUe3"
      },
      "source": [
        "## Training (through Gradient Descent)\n",
        "Ok, but how do we really train a neural network?\n",
        "\n",
        "First we need a measure of how good/bad the network is doing. This will be the loss function that we want to evaluate (more often than not, this will be based on a distance metric between the network result and the expected _true_ result, although it can be whatever metric you can think of)\n",
        "\n",
        "Now picture this (sample for 2 parameters; the more parameters you have, more dimensions you will have to work with):\n",
        "![Loss landscape](https://miro.medium.com/max/1400/0*KUao5zocCfeI_DuF.png)\n",
        "\n",
        "For each selection of weights the result of using the network with some training (test) data will provide a loss result. Graphing it, we have a landscape of the function loss. If the loss represents the error the network has, we want to **minimize** it!\n",
        "\n",
        "How to do that? Say hello to calculus.\n",
        "\n",
        "We have a measure of the rate of change / slope of the loss through the **derivative**. The derivative will tell us in which direction the loss changes most, so if we want to minimize the loss then we have to _move_ the weights in the negative direction of the derivative. \n",
        "\n",
        "That's what gradient descent is about, moving the weights in the negative direction of the derivative of the loss:\n",
        "$$\\mathbf{w_{k+1}}=\\mathbf{w_k}-\\lambda\\nabla Loss(\\mathbf{w_k})$$\n",
        "\n",
        "We don't now how much to move, so we use a learning rate, here $\\lambda$. This learning rate will be a hyperparameter."
      ]
    },
    {
      "cell_type": "markdown",
      "metadata": {
        "id": "9Fdrdq_5vaLs"
      },
      "source": [
        "## Backpropagation\n",
        "That is fine and dandy, but how to do it to each and every neuron?\n",
        "After all, each neuron represents a whole (composited) function; do we have to do each derivative by hand?\n",
        "\n",
        "![Backpropagate](https://depthtest.github.io/content/170100_neural_rsc/neural_net_backprop_H.jpeg)\n",
        "\n",
        "We will apply Calculus Chain Rule. Compute Loss and _PROPAGATE_ it _BACK_ through the network until arriving to the inputs, updating the weights on the way. \n",
        "\n",
        "Additionally, doing it this way allows two advantages:\n",
        "1.   Each neuron knows its mathematical function, so it knows its derivative\n",
        "2.   The same computation may be reused multiple times, saving computation time in exchange of memory.\n",
        "\n",
        "So, from the output layer:\n",
        "$$\\nabla Loss(\\mathbf{w}_H) = \\frac{\\partial Loss}{\\partial \\mathbf{w}_{Hb_i, H}}$$\n",
        "\n",
        "\n",
        "If we go to the second layer, the loss for each neuron:\n",
        "$$\\nabla Loss(\\mathbf{w}_{Hb_0}) = \\frac{\\partial Loss}{\\partial w_{Hb_0, H}} \\frac{\\partial w_{Hb_0, H}}{\\partial \\mathbf{w}_{Ha_i, Hb_0}}$$\n",
        "\n",
        "$$\\nabla Loss(\\mathbf{w}_{Hb_1}) = \\frac{\\partial Loss}{\\partial w_{Hb_1, H}} \\frac{\\partial w_{Hb_1, H}}{\\partial \\mathbf{w}_{Ha_i, Hb_1}}$$\n",
        "\n",
        "$$\\nabla Loss(\\mathbf{w}_{Hb_2}) = \\frac{\\partial Loss}{\\partial w_{Hb_2, H}} \\frac{\\partial w_{Hb_2, H}}{\\partial \\mathbf{w}_{Ha_i, Hb_2}}$$\n",
        "\n",
        "$$\\nabla Loss(\\mathbf{w}_{Hb_3}) = \\frac{\\partial Loss}{\\partial w_{Hb_3, H}} \\frac{\\partial w_{Hb_3, H}}{\\partial \\mathbf{w}_{Ha_i, Hb_3}}$$\n",
        "\n",
        "Then, to the first layer (shown here only the neuron $Ha_0$):\n",
        "$$\\begin{align}\n",
        "\\nabla Loss(\\mathbf{w}_{Ha_0}) = \n",
        "\\frac{\\partial }{\\partial \\mathbf{w}_{X_i,Ha_0}} & \\left(\n",
        "\\frac{\\partial Loss}{\\partial w_{Hb_0, H}} \\frac{\\partial w_{Hb_0, H}}{\\partial w_{Ha_0, Hb_0}} + \n",
        "\\frac{\\partial Loss}{\\partial w_{Hb_1, H}} \\frac{\\partial w_{Hb_1, H}}{\\partial w_{Ha_0, Hb_1}} + \\frac{\\partial Loss}{\\partial w_{Hb_2, H}} \\frac{\\partial w_{Hb_2, H}}{\\partial w_{Ha_0, Hb_2}} + \n",
        "\\frac{\\partial Loss}{\\partial w_{Hb_3, H}} \\frac{\\partial w_{Hb_3, H}}{\\partial w_{Ha_0, Hb_3}} \\right)\n",
        "\\end{align}$$\n",
        "\n",
        "\n",
        "We could check even how much depends the loss result on each of the inputs (here only shown for $X_0$):\n",
        "$$\\begin{align}\n",
        "\\nabla Loss(X_0) = \\frac{\\partial }{\\partial X_0} & \\Bigg( \\\\\n",
        "\\frac{\\partial }{\\partial \\mathbf{w}_{X_i,Ha_0}} & \\left(\n",
        "\\frac{\\partial Loss}{\\partial w_{Hb_0, H}} \\frac{\\partial w_{Hb_0, H}}{\\partial w_{Ha_0, Hb_0}} + \n",
        "\\frac{\\partial Loss}{\\partial w_{Hb_1, H}} \\frac{\\partial w_{Hb_1, H}}{\\partial w_{Ha_0, Hb_1}} +\n",
        "\\frac{\\partial Loss}{\\partial w_{Hb_2, H}} \\frac{\\partial w_{Hb_2, H}}{\\partial w_{Ha_0, Hb_2}} + \n",
        "\\frac{\\partial Loss}{\\partial w_{Hb_3, H}} \\frac{\\partial w_{Hb_3, H}}{\\partial w_{Ha_0, Hb_3}} \\right) + \\\\\n",
        "\\frac{\\partial }{\\partial \\mathbf{w}_{X_i,Ha_1}} & \\left(\n",
        "\\frac{\\partial Loss}{\\partial w_{Hb_0, H}} \\frac{\\partial w_{Hb_0, H}}{\\partial w_{Ha_1, Hb_0}} + \n",
        "\\frac{\\partial Loss}{\\partial w_{Hb_1, H}} \\frac{\\partial w_{Hb_1, H}}{\\partial w_{Ha_1, Hb_1}} +\n",
        "\\frac{\\partial Loss}{\\partial w_{Hb_2, H}} \\frac{\\partial w_{Hb_2, H}}{\\partial w_{Ha_1, Hb_2}} + \n",
        "\\frac{\\partial Loss}{\\partial w_{Hb_3, H}} \\frac{\\partial w_{Hb_3, H}}{\\partial w_{Ha_1, Hb_3}} \\right) + \\\\\n",
        "\\frac{\\partial }{\\partial \\mathbf{w}_{X_i,Ha_2}} & \\left(\n",
        "\\frac{\\partial Loss}{\\partial w_{Hb_0, H}} \\frac{\\partial w_{Hb_0, H}}{\\partial w_{Ha_2, Hb_0}} + \n",
        "\\frac{\\partial Loss}{\\partial w_{Hb_1, H}} \\frac{\\partial w_{Hb_1, H}}{\\partial w_{Ha_2, Hb_1}} +\n",
        "\\frac{\\partial Loss}{\\partial w_{Hb_2, H}} \\frac{\\partial w_{Hb_2, H}}{\\partial w_{Ha_2, Hb_2}} + \n",
        "\\frac{\\partial Loss}{\\partial w_{Hb_3, H}} \\frac{\\partial w_{Hb_3, H}}{\\partial w_{Ha_2, Hb_3}} \\right) + \\\\\n",
        "\\frac{\\partial }{\\partial \\mathbf{w}_{X_i,Ha_3}} & \\left(\n",
        "\\frac{\\partial Loss}{\\partial w_{Hb_0, H}} \\frac{\\partial w_{Hb_0, H}}{\\partial w_{Ha_3, Hb_0}} + \n",
        "\\frac{\\partial Loss}{\\partial w_{Hb_1, H}} \\frac{\\partial w_{Hb_1, H}}{\\partial w_{Ha_3, Hb_1}} +\n",
        "\\frac{\\partial Loss}{\\partial w_{Hb_2, H}} \\frac{\\partial w_{Hb_2, H}}{\\partial w_{Ha_3, Hb_2}} + \n",
        "\\frac{\\partial Loss}{\\partial w_{Hb_3, H}} \\frac{\\partial w_{Hb_3, H}}{\\partial w_{Ha_3, Hb_3}} \\right)\n",
        "\\Bigg)\n",
        "\\end{align}$$\n",
        "\n",
        "# Thankfully all this is taken care of by libraries like PyTorch!"
      ]
    },
    {
      "cell_type": "markdown",
      "metadata": {
        "id": "aPJXz7cThCjG"
      },
      "source": [
        "# PyTorch\n",
        "\n",
        "Important: https://pytorch.org/docs/stable/"
      ]
    },
    {
      "cell_type": "code",
      "metadata": {
        "id": "xq9JTMmeV7ml"
      },
      "source": [
        "import torch\n",
        "import torch.nn as nn\n",
        "import torch.nn.functional as fun\n",
        "import torch.optim as optim\n",
        "import torchvision"
      ],
      "execution_count": null,
      "outputs": []
    },
    {
      "cell_type": "markdown",
      "metadata": {
        "id": "SExNkRadgxOi"
      },
      "source": [
        "## Using Tensors in PyTorch\n",
        "(they are conceptually the _same_ as numpy arrays)"
      ]
    },
    {
      "cell_type": "code",
      "metadata": {
        "id": "-HYt14S9WBhU"
      },
      "source": [
        "# numpy\n",
        "import numpy as np\n",
        "from numpy.linalg import inv"
      ],
      "execution_count": null,
      "outputs": []
    },
    {
      "cell_type": "code",
      "metadata": {
        "id": "0xCNkz8okdN5",
        "colab": {
          "base_uri": "https://localhost:8080/"
        },
        "outputId": "6d37ea8e-8a8f-42e1-e27c-5b4c9c18ff4b"
      },
      "source": [
        "# numpy\n",
        "np.eye(3)"
      ],
      "execution_count": null,
      "outputs": [
        {
          "output_type": "execute_result",
          "data": {
            "text/plain": [
              "array([[1., 0., 0.],\n",
              "       [0., 1., 0.],\n",
              "       [0., 0., 1.]])"
            ]
          },
          "metadata": {
            "tags": []
          },
          "execution_count": 3
        }
      ]
    },
    {
      "cell_type": "code",
      "metadata": {
        "id": "zY3KmIWhkpcb",
        "colab": {
          "base_uri": "https://localhost:8080/"
        },
        "outputId": "dbf667b5-38bb-4ee9-ac1b-c4fb68c4f18c"
      },
      "source": [
        "# pytorch\n",
        "torch.eye(3)"
      ],
      "execution_count": null,
      "outputs": [
        {
          "output_type": "execute_result",
          "data": {
            "text/plain": [
              "tensor([[1., 0., 0.],\n",
              "        [0., 1., 0.],\n",
              "        [0., 0., 1.]])"
            ]
          },
          "metadata": {
            "tags": []
          },
          "execution_count": 4
        }
      ]
    },
    {
      "cell_type": "code",
      "metadata": {
        "id": "4zDpO4-nkZjr",
        "colab": {
          "base_uri": "https://localhost:8080/"
        },
        "outputId": "aeb0cd20-ec58-4566-f4be-f05a3280680a"
      },
      "source": [
        "# numpy\n",
        "X = np.random.random((5, 3))\n",
        "X"
      ],
      "execution_count": null,
      "outputs": [
        {
          "output_type": "execute_result",
          "data": {
            "text/plain": [
              "array([[0.87449232, 0.28827181, 0.25432292],\n",
              "       [0.50599129, 0.72203198, 0.77027947],\n",
              "       [0.38719764, 0.38390987, 0.09011435],\n",
              "       [0.1561072 , 0.21709713, 0.30539949],\n",
              "       [0.3002811 , 0.33688603, 0.65911923]])"
            ]
          },
          "metadata": {
            "tags": []
          },
          "execution_count": 5
        }
      ]
    },
    {
      "cell_type": "code",
      "metadata": {
        "id": "wJ8xyKKhksLN",
        "colab": {
          "base_uri": "https://localhost:8080/"
        },
        "outputId": "cbd7a937-1d64-4e81-f59a-a6f897cf66fa"
      },
      "source": [
        "# pytorch\n",
        "Y = torch.rand((5, 3))\n",
        "Y"
      ],
      "execution_count": null,
      "outputs": [
        {
          "output_type": "execute_result",
          "data": {
            "text/plain": [
              "tensor([[0.4095, 0.7980, 0.3358],\n",
              "        [0.5951, 0.9889, 0.4334],\n",
              "        [0.5802, 0.4821, 0.3261],\n",
              "        [0.0275, 0.8364, 0.2588],\n",
              "        [0.7586, 0.1681, 0.4458]])"
            ]
          },
          "metadata": {
            "tags": []
          },
          "execution_count": 6
        }
      ]
    },
    {
      "cell_type": "code",
      "metadata": {
        "id": "Rx6GjI22khh7",
        "colab": {
          "base_uri": "https://localhost:8080/"
        },
        "outputId": "3c63fb54-78c7-4633-b7f8-5f8312b1cbe0"
      },
      "source": [
        "# numpy\n",
        "X.T @ X"
      ],
      "execution_count": null,
      "outputs": [
        {
          "output_type": "execute_result",
          "data": {
            "text/plain": [
              "array([[1.28522421, 0.9011333 , 0.89264632],\n",
              "       [0.9011333 , 0.91244097, 0.95242575],\n",
              "       [0.89264632, 0.95242575, 1.19383822]])"
            ]
          },
          "metadata": {
            "tags": []
          },
          "execution_count": 7
        }
      ]
    },
    {
      "cell_type": "code",
      "metadata": {
        "id": "f-hoQohtk1Hv",
        "colab": {
          "base_uri": "https://localhost:8080/"
        },
        "outputId": "5cb1d7cd-5651-4718-90fc-2adbc7e272c5"
      },
      "source": [
        "# pytorch\n",
        "Y.t() @ Y"
      ],
      "execution_count": null,
      "outputs": [
        {
          "output_type": "execute_result",
          "data": {
            "text/plain": [
              "tensor([[1.4346, 1.3454, 0.9299],\n",
              "        [1.3454, 2.5749, 1.1452],\n",
              "        [0.9299, 1.1452, 0.6726]])"
            ]
          },
          "metadata": {
            "tags": []
          },
          "execution_count": 8
        }
      ]
    },
    {
      "cell_type": "code",
      "metadata": {
        "id": "6eN3K78mkjJS",
        "colab": {
          "base_uri": "https://localhost:8080/"
        },
        "outputId": "06d71938-555f-4f8f-f3b5-77dc2b7b2bd7"
      },
      "source": [
        "# numpy\n",
        "inv(X.T @ X)"
      ],
      "execution_count": null,
      "outputs": [
        {
          "output_type": "execute_result",
          "data": {
            "text/plain": [
              "array([[ 2.60599127, -3.2272788 ,  0.62614424],\n",
              "       [-3.2272788 , 10.54932019, -6.00301238],\n",
              "       [ 0.62614424, -6.00301238,  5.15857014]])"
            ]
          },
          "metadata": {
            "tags": []
          },
          "execution_count": 9
        }
      ]
    },
    {
      "cell_type": "code",
      "metadata": {
        "id": "DrFCshXsk3sq",
        "colab": {
          "base_uri": "https://localhost:8080/"
        },
        "outputId": "a9e15599-0bbd-46ac-b856-8d4f49a6c9a5"
      },
      "source": [
        "# pytorch\n",
        "torch.inverse(Y.t() @ Y)"
      ],
      "execution_count": null,
      "outputs": [
        {
          "output_type": "execute_result",
          "data": {
            "text/plain": [
              "tensor([[ 17.0190,   6.4704, -34.5429],\n",
              "        [  6.4704,   4.0593, -15.8557],\n",
              "        [-34.5430, -15.8557,  76.2331]])"
            ]
          },
          "metadata": {
            "tags": []
          },
          "execution_count": 10
        }
      ]
    },
    {
      "cell_type": "markdown",
      "metadata": {
        "id": "6a4PunkYlMg5"
      },
      "source": [
        "## More on Tensors"
      ]
    },
    {
      "cell_type": "code",
      "metadata": {
        "id": "gstE07TFlH_E",
        "colab": {
          "base_uri": "https://localhost:8080/"
        },
        "outputId": "ad3fdcce-9569-470e-faee-380b9156f893"
      },
      "source": [
        "A = torch.eye(3)\n",
        "A.add(1)"
      ],
      "execution_count": null,
      "outputs": [
        {
          "output_type": "execute_result",
          "data": {
            "text/plain": [
              "tensor([[2., 1., 1.],\n",
              "        [1., 2., 1.],\n",
              "        [1., 1., 2.]])"
            ]
          },
          "metadata": {
            "tags": []
          },
          "execution_count": 11
        }
      ]
    },
    {
      "cell_type": "code",
      "metadata": {
        "id": "8z9UawQJlKgb",
        "colab": {
          "base_uri": "https://localhost:8080/"
        },
        "outputId": "b886025d-a149-4f8d-f834-c212fc98e5a3"
      },
      "source": [
        "A[0, 0]"
      ],
      "execution_count": null,
      "outputs": [
        {
          "output_type": "execute_result",
          "data": {
            "text/plain": [
              "tensor(1.)"
            ]
          },
          "metadata": {
            "tags": []
          },
          "execution_count": 12
        }
      ]
    },
    {
      "cell_type": "code",
      "metadata": {
        "id": "Nx3R-oZRlLzh",
        "colab": {
          "base_uri": "https://localhost:8080/"
        },
        "outputId": "af2501c7-657f-4699-9d4d-7501fce1db65"
      },
      "source": [
        "A[:, 1:3]"
      ],
      "execution_count": null,
      "outputs": [
        {
          "output_type": "execute_result",
          "data": {
            "text/plain": [
              "tensor([[0., 0.],\n",
              "        [1., 0.],\n",
              "        [0., 1.]])"
            ]
          },
          "metadata": {
            "tags": []
          },
          "execution_count": 13
        }
      ]
    },
    {
      "cell_type": "code",
      "metadata": {
        "id": "R9vIWCb0lD6g",
        "colab": {
          "base_uri": "https://localhost:8080/"
        },
        "outputId": "c1a7aae1-134f-4a07-8576-f0f9ab33a404"
      },
      "source": [
        "# pytorch --> numpy\n",
        "B = A.numpy()\n",
        "B"
      ],
      "execution_count": null,
      "outputs": [
        {
          "output_type": "execute_result",
          "data": {
            "text/plain": [
              "array([[1., 0., 0.],\n",
              "       [0., 1., 0.],\n",
              "       [0., 0., 1.]], dtype=float32)"
            ]
          },
          "metadata": {
            "tags": []
          },
          "execution_count": 14
        }
      ]
    },
    {
      "cell_type": "code",
      "metadata": {
        "id": "jhcE6JKplTsu",
        "colab": {
          "base_uri": "https://localhost:8080/"
        },
        "outputId": "0ada49bb-6700-43ea-ed31-7cde48ffc57d"
      },
      "source": [
        "# numpy --> torch\n",
        "torch.from_numpy(np.eye(3))"
      ],
      "execution_count": null,
      "outputs": [
        {
          "output_type": "execute_result",
          "data": {
            "text/plain": [
              "tensor([[1., 0., 0.],\n",
              "        [0., 1., 0.],\n",
              "        [0., 0., 1.]], dtype=torch.float64)"
            ]
          },
          "metadata": {
            "tags": []
          },
          "execution_count": 15
        }
      ]
    },
    {
      "cell_type": "markdown",
      "metadata": {
        "id": "D6FQYLHVlYpP"
      },
      "source": [
        "## Using the GPU\n",
        "Here in Colab you will need a GPU-based environment. Go to `Runtime -> Change runtime type -> Hardware accelerator` and select GPU.\n",
        "\n",
        "TPU is for Tensorflow for now, although there is work being done for PyTorch to be compatible with TPUs."
      ]
    },
    {
      "cell_type": "code",
      "metadata": {
        "id": "G0a6G6XxlXrR",
        "colab": {
          "base_uri": "https://localhost:8080/"
        },
        "outputId": "2031ffdd-296c-40b4-d18b-453dca5aa197"
      },
      "source": [
        "# Checking if device is available and selecting it\n",
        "device = torch.device(\"cuda:0\" if torch.cuda.is_available() else \"cpu\")\n",
        "device"
      ],
      "execution_count": null,
      "outputs": [
        {
          "output_type": "execute_result",
          "data": {
            "text/plain": [
              "device(type='cuda', index=0)"
            ]
          },
          "metadata": {
            "tags": []
          },
          "execution_count": 16
        }
      ]
    },
    {
      "cell_type": "code",
      "metadata": {
        "id": "TaNUuu10lkuD",
        "colab": {
          "base_uri": "https://localhost:8080/"
        },
        "outputId": "0d9aa537-5a87-482e-b269-a365e5e20f82"
      },
      "source": [
        "# Creating data and moving to device\n",
        "data = torch.eye(3).to(device)\n",
        "data"
      ],
      "execution_count": null,
      "outputs": [
        {
          "output_type": "execute_result",
          "data": {
            "text/plain": [
              "tensor([[1., 0., 0.],\n",
              "        [0., 1., 0.],\n",
              "        [0., 0., 1.]], device='cuda:0')"
            ]
          },
          "metadata": {
            "tags": []
          },
          "execution_count": 17
        }
      ]
    },
    {
      "cell_type": "code",
      "metadata": {
        "id": "kXbx9Fovlmn3",
        "colab": {
          "base_uri": "https://localhost:8080/"
        },
        "outputId": "6ae2ce8d-5e5e-4636-e5dd-bef39fe96d2b"
      },
      "source": [
        "# Computation is now done on device\n",
        "res = data + data\n",
        "res"
      ],
      "execution_count": null,
      "outputs": [
        {
          "output_type": "execute_result",
          "data": {
            "text/plain": [
              "tensor([[2., 0., 0.],\n",
              "        [0., 2., 0.],\n",
              "        [0., 0., 2.]], device='cuda:0')"
            ]
          },
          "metadata": {
            "tags": []
          },
          "execution_count": 18
        }
      ]
    },
    {
      "cell_type": "markdown",
      "metadata": {
        "id": "1sw-CfvKs_ct"
      },
      "source": [
        "## Automatic differentiation with _autograd_\n",
        "\n",
        "Tensor can record gradients directly if you tell it do do so, e.g. torch.ones(3, requires_grad=True). Prior to `v0.4` it had to be done with the `Variable` class, there is no need for Variable anymore. Many tutorials still use Variable, be aware!\n",
        "\n",
        "Related: https://pytorch.org/tutorials/beginner/blitz/autograd_tutorial.html\n",
        "\n",
        "You rarely use `torch.autograd` directly. Pretty much everything is part or `torch.Tensor` now. Simply add `requires_grad=True` to the tensors you want to calculate the gradients for. `nn.Module` track gradients automatically (they will define the lego pieces with which to build the networks)."
      ]
    },
    {
      "cell_type": "code",
      "metadata": {
        "id": "rUdFCOgiv0DQ"
      },
      "source": [
        "from torch import autograd"
      ],
      "execution_count": null,
      "outputs": []
    },
    {
      "cell_type": "code",
      "metadata": {
        "id": "X0UQSJlMv3IL",
        "colab": {
          "base_uri": "https://localhost:8080/"
        },
        "outputId": "5f3004d6-918b-47c1-d838-f0e9eba2bbac"
      },
      "source": [
        "x = torch.tensor(2.)\n",
        "x"
      ],
      "execution_count": null,
      "outputs": [
        {
          "output_type": "execute_result",
          "data": {
            "text/plain": [
              "tensor(2.)"
            ]
          },
          "metadata": {
            "tags": []
          },
          "execution_count": 20
        }
      ]
    },
    {
      "cell_type": "code",
      "metadata": {
        "id": "IsFpoDTQv4SO",
        "colab": {
          "base_uri": "https://localhost:8080/"
        },
        "outputId": "d96729a6-3d76-4363-e50b-2530b47125a3"
      },
      "source": [
        "x = torch.tensor(2., requires_grad=True)\n",
        "x"
      ],
      "execution_count": null,
      "outputs": [
        {
          "output_type": "execute_result",
          "data": {
            "text/plain": [
              "tensor(2., requires_grad=True)"
            ]
          },
          "metadata": {
            "tags": []
          },
          "execution_count": 21
        }
      ]
    },
    {
      "cell_type": "code",
      "metadata": {
        "id": "6vyyFHUPv9rE",
        "colab": {
          "base_uri": "https://localhost:8080/"
        },
        "outputId": "27110488-202f-493c-a5af-78eb53b6e918"
      },
      "source": [
        "print(x.grad)"
      ],
      "execution_count": null,
      "outputs": [
        {
          "output_type": "stream",
          "text": [
            "None\n"
          ],
          "name": "stdout"
        }
      ]
    },
    {
      "cell_type": "code",
      "metadata": {
        "id": "16jkI3TtwBON",
        "colab": {
          "base_uri": "https://localhost:8080/"
        },
        "outputId": "5e7b8c52-ce23-4666-f508-8f9c6ee74bcd"
      },
      "source": [
        "y = x ** 2\n",
        "\n",
        "print(\"Grad of x:\", x.grad)"
      ],
      "execution_count": null,
      "outputs": [
        {
          "output_type": "stream",
          "text": [
            "Grad of x: None\n"
          ],
          "name": "stdout"
        }
      ]
    },
    {
      "cell_type": "code",
      "metadata": {
        "id": "Cd-D9tclwGnS",
        "colab": {
          "base_uri": "https://localhost:8080/"
        },
        "outputId": "1fbb5073-2823-41a0-ecd6-9cec00df9ea8"
      },
      "source": [
        "y = x ** 2\n",
        "y.backward()\n",
        "\n",
        "print(\"Grad of x:\", x.grad)"
      ],
      "execution_count": null,
      "outputs": [
        {
          "output_type": "stream",
          "text": [
            "Grad of x: tensor(4.)\n"
          ],
          "name": "stdout"
        }
      ]
    },
    {
      "cell_type": "code",
      "metadata": {
        "id": "AvIGxilRwMc-",
        "colab": {
          "base_uri": "https://localhost:8080/"
        },
        "outputId": "123a236b-1db5-4fad-f228-cc67fd95a03c"
      },
      "source": [
        "# Don't record the gradient\n",
        "# Useful for inference\n",
        "\n",
        "params = torch.tensor(2., requires_grad=True)\n",
        "\n",
        "with torch.no_grad():\n",
        "    y = x * x\n",
        "    print(x.grad_fn)"
      ],
      "execution_count": null,
      "outputs": [
        {
          "output_type": "stream",
          "text": [
            "None\n"
          ],
          "name": "stdout"
        }
      ]
    },
    {
      "cell_type": "markdown",
      "metadata": {
        "id": "Q6wU2MHYuuSP"
      },
      "source": [
        "## Let's try a linear regression with Gradient Descent in PyTorch\n"
      ]
    },
    {
      "cell_type": "markdown",
      "metadata": {
        "id": "Qq-v8chQipEo"
      },
      "source": [
        "### Getting the California Housing data"
      ]
    },
    {
      "cell_type": "code",
      "metadata": {
        "id": "CFsQnUWe2zOj",
        "colab": {
          "base_uri": "https://localhost:8080/"
        },
        "outputId": "be677ed5-9c51-493a-971f-d850e1b30b22"
      },
      "source": [
        "from sklearn.datasets import fetch_california_housing\n",
        "housing = fetch_california_housing()\n",
        "housing"
      ],
      "execution_count": null,
      "outputs": [
        {
          "output_type": "stream",
          "text": [
            "Downloading Cal. housing from https://ndownloader.figshare.com/files/5976036 to /root/scikit_learn_data\n"
          ],
          "name": "stderr"
        },
        {
          "output_type": "execute_result",
          "data": {
            "text/plain": [
              "{'DESCR': '.. _california_housing_dataset:\\n\\nCalifornia Housing dataset\\n--------------------------\\n\\n**Data Set Characteristics:**\\n\\n    :Number of Instances: 20640\\n\\n    :Number of Attributes: 8 numeric, predictive attributes and the target\\n\\n    :Attribute Information:\\n        - MedInc        median income in block\\n        - HouseAge      median house age in block\\n        - AveRooms      average number of rooms\\n        - AveBedrms     average number of bedrooms\\n        - Population    block population\\n        - AveOccup      average house occupancy\\n        - Latitude      house block latitude\\n        - Longitude     house block longitude\\n\\n    :Missing Attribute Values: None\\n\\nThis dataset was obtained from the StatLib repository.\\nhttp://lib.stat.cmu.edu/datasets/\\n\\nThe target variable is the median house value for California districts.\\n\\nThis dataset was derived from the 1990 U.S. census, using one row per census\\nblock group. A block group is the smallest geographical unit for which the U.S.\\nCensus Bureau publishes sample data (a block group typically has a population\\nof 600 to 3,000 people).\\n\\nIt can be downloaded/loaded using the\\n:func:`sklearn.datasets.fetch_california_housing` function.\\n\\n.. topic:: References\\n\\n    - Pace, R. Kelley and Ronald Barry, Sparse Spatial Autoregressions,\\n      Statistics and Probability Letters, 33 (1997) 291-297\\n',\n",
              " 'data': array([[   8.3252    ,   41.        ,    6.98412698, ...,    2.55555556,\n",
              "           37.88      , -122.23      ],\n",
              "        [   8.3014    ,   21.        ,    6.23813708, ...,    2.10984183,\n",
              "           37.86      , -122.22      ],\n",
              "        [   7.2574    ,   52.        ,    8.28813559, ...,    2.80225989,\n",
              "           37.85      , -122.24      ],\n",
              "        ...,\n",
              "        [   1.7       ,   17.        ,    5.20554273, ...,    2.3256351 ,\n",
              "           39.43      , -121.22      ],\n",
              "        [   1.8672    ,   18.        ,    5.32951289, ...,    2.12320917,\n",
              "           39.43      , -121.32      ],\n",
              "        [   2.3886    ,   16.        ,    5.25471698, ...,    2.61698113,\n",
              "           39.37      , -121.24      ]]),\n",
              " 'feature_names': ['MedInc',\n",
              "  'HouseAge',\n",
              "  'AveRooms',\n",
              "  'AveBedrms',\n",
              "  'Population',\n",
              "  'AveOccup',\n",
              "  'Latitude',\n",
              "  'Longitude'],\n",
              " 'target': array([4.526, 3.585, 3.521, ..., 0.923, 0.847, 0.894])}"
            ]
          },
          "metadata": {
            "tags": []
          },
          "execution_count": 26
        }
      ]
    },
    {
      "cell_type": "code",
      "metadata": {
        "id": "RvHkNam95UoG"
      },
      "source": [
        "n_samples, n_features = housing.data.shape"
      ],
      "execution_count": null,
      "outputs": []
    },
    {
      "cell_type": "markdown",
      "metadata": {
        "id": "iF3dpcDNixTa"
      },
      "source": [
        "### Getting the device"
      ]
    },
    {
      "cell_type": "code",
      "metadata": {
        "id": "z6iPG7ZU4ROz"
      },
      "source": [
        "device = torch.device(\"cuda:0\" if torch.cuda.is_available() else \"cpu\")"
      ],
      "execution_count": null,
      "outputs": []
    },
    {
      "cell_type": "markdown",
      "metadata": {
        "id": "kXZAA2CQi3Wa"
      },
      "source": [
        "### Creating the Tensors from the data"
      ]
    },
    {
      "cell_type": "code",
      "metadata": {
        "id": "0CAGxqCS3rb1"
      },
      "source": [
        "X = torch.from_numpy(housing.data).float().to(device)\n",
        "y = torch.from_numpy(housing.target.reshape(-1,1)).float().to(device)"
      ],
      "execution_count": null,
      "outputs": []
    },
    {
      "cell_type": "markdown",
      "metadata": {
        "id": "SE8YRrapi75U"
      },
      "source": [
        "### Creating the Module to compute the Linear Regression"
      ]
    },
    {
      "cell_type": "code",
      "metadata": {
        "id": "0KjHyjZ44iRq"
      },
      "source": [
        "class LinReg(nn.Module):\n",
        "    def __init__(self, input_dim):\n",
        "        super().__init__()\n",
        "        self.beta = nn.Linear(input_dim, 1, bias=True)\n",
        "        \n",
        "    def forward(self, X):\n",
        "        return self.beta(X)"
      ],
      "execution_count": null,
      "outputs": []
    },
    {
      "cell_type": "markdown",
      "metadata": {
        "id": "JTVDChkfjEpB"
      },
      "source": [
        "### We create the Model, Criterion and Optimizer"
      ]
    },
    {
      "cell_type": "code",
      "metadata": {
        "id": "ynE0YNjK4oy9"
      },
      "source": [
        "model = LinReg(n_features).to(device)\n",
        "loss_fn = nn.MSELoss()\n",
        "optimizer = optim.SGD(model.parameters(), lr=0.1)"
      ],
      "execution_count": null,
      "outputs": []
    },
    {
      "cell_type": "markdown",
      "metadata": {
        "id": "wyNLXHIcjKFZ"
      },
      "source": [
        "### A train step"
      ]
    },
    {
      "cell_type": "code",
      "metadata": {
        "id": "Tsc5NqnJ45x5",
        "colab": {
          "base_uri": "https://localhost:8080/"
        },
        "outputId": "b643f5e7-7d39-4d07-f2eb-fcf729a0a5e4"
      },
      "source": [
        "# Train step\n",
        "model.train()  # <-- here\n",
        "optimizer.zero_grad()\n",
        "\n",
        "y_ = model(X)\n",
        "loss = loss_fn(y_, y)\n",
        "\n",
        "loss.backward()\n",
        "optimizer.step()\n",
        "\n",
        "loss.item()"
      ],
      "execution_count": null,
      "outputs": [
        {
          "output_type": "execute_result",
          "data": {
            "text/plain": [
              "28897.984375"
            ]
          },
          "metadata": {
            "tags": []
          },
          "execution_count": 32
        }
      ]
    },
    {
      "cell_type": "markdown",
      "metadata": {
        "id": "X5HtT4sqj0-I"
      },
      "source": [
        "Take into account two things:\n",
        "1.   We have not divided the dataset into train and test, which should be a must.\n",
        "2.   This is only a step in the optimization, we should create a loop."
      ]
    },
    {
      "cell_type": "markdown",
      "metadata": {
        "id": "DBbZWHapjViP"
      },
      "source": [
        "### In order to make inference"
      ]
    },
    {
      "cell_type": "code",
      "metadata": {
        "id": "x2tyqM1rgTys"
      },
      "source": [
        "# Eval\n",
        "model.eval()  # <-- here\n",
        "with torch.no_grad():\n",
        "    y_ = model(X)"
      ],
      "execution_count": null,
      "outputs": []
    },
    {
      "cell_type": "markdown",
      "metadata": {
        "id": "VOO3F2qamXRe"
      },
      "source": [
        "## Other nice things"
      ]
    },
    {
      "cell_type": "markdown",
      "metadata": {
        "id": "FTpKajSKmbl8"
      },
      "source": [
        "### Debugging\n",
        "\n",
        "You can use the Python Debugger (here the IPython Debugger)"
      ]
    },
    {
      "cell_type": "code",
      "metadata": {
        "id": "Hmx8wpGBnMDz"
      },
      "source": [
        "from IPython.core.debugger import set_trace"
      ],
      "execution_count": null,
      "outputs": []
    },
    {
      "cell_type": "code",
      "metadata": {
        "id": "Yyd8xGFPnQGF",
        "colab": {
          "base_uri": "https://localhost:8080/"
        },
        "outputId": "cd688a61-c729-4cdb-dfc3-c752b9a7f1f8"
      },
      "source": [
        "def my_function(x):\n",
        "    answer = 42\n",
        "    set_trace()\n",
        "    answer += x\n",
        "    return answer\n",
        "\n",
        "my_function(12)"
      ],
      "execution_count": null,
      "outputs": [
        {
          "output_type": "stream",
          "text": [
            "> \u001b[0;32m<ipython-input-35-0515935c5419>\u001b[0m(4)\u001b[0;36mmy_function\u001b[0;34m()\u001b[0m\n",
            "\u001b[0;32m      2 \u001b[0;31m    \u001b[0manswer\u001b[0m \u001b[0;34m=\u001b[0m \u001b[0;36m42\u001b[0m\u001b[0;34m\u001b[0m\u001b[0;34m\u001b[0m\u001b[0m\n",
            "\u001b[0m\u001b[0;32m      3 \u001b[0;31m    \u001b[0mset_trace\u001b[0m\u001b[0;34m(\u001b[0m\u001b[0;34m)\u001b[0m\u001b[0;34m\u001b[0m\u001b[0;34m\u001b[0m\u001b[0m\n",
            "\u001b[0m\u001b[0;32m----> 4 \u001b[0;31m    \u001b[0manswer\u001b[0m \u001b[0;34m+=\u001b[0m \u001b[0mx\u001b[0m\u001b[0;34m\u001b[0m\u001b[0;34m\u001b[0m\u001b[0m\n",
            "\u001b[0m\u001b[0;32m      5 \u001b[0;31m    \u001b[0;32mreturn\u001b[0m \u001b[0manswer\u001b[0m\u001b[0;34m\u001b[0m\u001b[0;34m\u001b[0m\u001b[0m\n",
            "\u001b[0m\u001b[0;32m      6 \u001b[0;31m\u001b[0;34m\u001b[0m\u001b[0m\n",
            "\u001b[0m\n",
            "ipdb> c\n"
          ],
          "name": "stdout"
        },
        {
          "output_type": "execute_result",
          "data": {
            "text/plain": [
              "54"
            ]
          },
          "metadata": {
            "tags": []
          },
          "execution_count": 35
        }
      ]
    },
    {
      "cell_type": "markdown",
      "metadata": {
        "id": "W5yuJwUTnZjb"
      },
      "source": [
        "#### Let's revisit the Linear Regression Module"
      ]
    },
    {
      "cell_type": "code",
      "metadata": {
        "id": "cD87BPKanddl"
      },
      "source": [
        "class LinRegBreak(nn.Module):\n",
        "    def __init__(self, input_dim):\n",
        "        super().__init__()\n",
        "        self.beta = nn.Linear(input_dim, 1, bias=True)\n",
        "        \n",
        "    def forward(self, X):\n",
        "        set_trace()\n",
        "        return self.beta(X)"
      ],
      "execution_count": null,
      "outputs": []
    },
    {
      "cell_type": "code",
      "metadata": {
        "id": "zWnQw0slnyvY",
        "colab": {
          "base_uri": "https://localhost:8080/"
        },
        "outputId": "4537923c-a1ca-4c90-a949-ca2bc7280719"
      },
      "source": [
        "model = LinRegBreak(n_features).to(device)\n",
        "\n",
        "# For testing purposes, execute just in inference mode\n",
        "model.eval()\n",
        "with torch.no_grad():\n",
        "    y_ = model(X)\n",
        "y_"
      ],
      "execution_count": null,
      "outputs": [
        {
          "output_type": "stream",
          "text": [
            "> \u001b[0;32m<ipython-input-36-04466ee5b0cf>\u001b[0m(8)\u001b[0;36mforward\u001b[0;34m()\u001b[0m\n",
            "\u001b[0;32m      4 \u001b[0;31m        \u001b[0mself\u001b[0m\u001b[0;34m.\u001b[0m\u001b[0mbeta\u001b[0m \u001b[0;34m=\u001b[0m \u001b[0mnn\u001b[0m\u001b[0;34m.\u001b[0m\u001b[0mLinear\u001b[0m\u001b[0;34m(\u001b[0m\u001b[0minput_dim\u001b[0m\u001b[0;34m,\u001b[0m \u001b[0;36m1\u001b[0m\u001b[0;34m,\u001b[0m \u001b[0mbias\u001b[0m\u001b[0;34m=\u001b[0m\u001b[0;32mTrue\u001b[0m\u001b[0;34m)\u001b[0m\u001b[0;34m\u001b[0m\u001b[0;34m\u001b[0m\u001b[0m\n",
            "\u001b[0m\u001b[0;32m      5 \u001b[0;31m\u001b[0;34m\u001b[0m\u001b[0m\n",
            "\u001b[0m\u001b[0;32m      6 \u001b[0;31m    \u001b[0;32mdef\u001b[0m \u001b[0mforward\u001b[0m\u001b[0;34m(\u001b[0m\u001b[0mself\u001b[0m\u001b[0;34m,\u001b[0m \u001b[0mX\u001b[0m\u001b[0;34m)\u001b[0m\u001b[0;34m:\u001b[0m\u001b[0;34m\u001b[0m\u001b[0;34m\u001b[0m\u001b[0m\n",
            "\u001b[0m\u001b[0;32m      7 \u001b[0;31m        \u001b[0mset_trace\u001b[0m\u001b[0;34m(\u001b[0m\u001b[0;34m)\u001b[0m\u001b[0;34m\u001b[0m\u001b[0;34m\u001b[0m\u001b[0m\n",
            "\u001b[0m\u001b[0;32m----> 8 \u001b[0;31m        \u001b[0;32mreturn\u001b[0m \u001b[0mself\u001b[0m\u001b[0;34m.\u001b[0m\u001b[0mbeta\u001b[0m\u001b[0;34m(\u001b[0m\u001b[0mX\u001b[0m\u001b[0;34m)\u001b[0m\u001b[0;34m\u001b[0m\u001b[0;34m\u001b[0m\u001b[0m\n",
            "\u001b[0m\n",
            "ipdb> c\n"
          ],
          "name": "stdout"
        },
        {
          "output_type": "execute_result",
          "data": {
            "text/plain": [
              "tensor([[ -33.6637],\n",
              "        [-331.8139],\n",
              "        [ -61.0560],\n",
              "        ...,\n",
              "        [-130.8249],\n",
              "        [ -92.3194],\n",
              "        [-185.5877]], device='cuda:0')"
            ]
          },
          "metadata": {
            "tags": []
          },
          "execution_count": 37
        }
      ]
    },
    {
      "cell_type": "markdown",
      "metadata": {
        "id": "O5jjXK46mg2s"
      },
      "source": [
        "### Saving and restoring models"
      ]
    },
    {
      "cell_type": "markdown",
      "metadata": {
        "id": "1MyG-n0qpXD-"
      },
      "source": [
        "#### nn.Module.state_dict()"
      ]
    },
    {
      "cell_type": "code",
      "metadata": {
        "id": "rMeESnY-p_Pk",
        "colab": {
          "base_uri": "https://localhost:8080/"
        },
        "outputId": "f2d7fb4d-5530-48f2-93d6-e830b8a10029"
      },
      "source": [
        "model = LinReg(n_features)\n",
        "model.state_dict()"
      ],
      "execution_count": null,
      "outputs": [
        {
          "output_type": "execute_result",
          "data": {
            "text/plain": [
              "OrderedDict([('beta.weight',\n",
              "              tensor([[-0.0040,  0.1278, -0.1822,  0.2654,  0.2707, -0.2566,  0.0804, -0.2591]])),\n",
              "             ('beta.bias', tensor([-0.3007]))])"
            ]
          },
          "metadata": {
            "tags": []
          },
          "execution_count": 38
        }
      ]
    },
    {
      "cell_type": "markdown",
      "metadata": {
        "id": "J1ZakNktpe8u"
      },
      "source": [
        "#### nn.Optimizer.state_dict()"
      ]
    },
    {
      "cell_type": "code",
      "metadata": {
        "id": "hfwFCkG4qFmO",
        "colab": {
          "base_uri": "https://localhost:8080/"
        },
        "outputId": "15fbe596-5aad-466a-cebe-8ef0a28e8949"
      },
      "source": [
        "optimizer = optim.SGD(model.parameters(), lr=0.1)\n",
        "optimizer.state_dict()"
      ],
      "execution_count": null,
      "outputs": [
        {
          "output_type": "execute_result",
          "data": {
            "text/plain": [
              "{'param_groups': [{'dampening': 0,\n",
              "   'lr': 0.1,\n",
              "   'momentum': 0,\n",
              "   'nesterov': False,\n",
              "   'params': [0, 1],\n",
              "   'weight_decay': 0}],\n",
              " 'state': {}}"
            ]
          },
          "metadata": {
            "tags": []
          },
          "execution_count": 39
        }
      ]
    },
    {
      "cell_type": "markdown",
      "metadata": {
        "id": "Bl9Z7rzZpjTs"
      },
      "source": [
        "#### Storing and loading `state_dict`"
      ]
    },
    {
      "cell_type": "code",
      "metadata": {
        "id": "5nypGhkhqMCG"
      },
      "source": [
        "model_file = \"model_state_dict.pt\"\n",
        "torch.save(model.state_dict(), model_file)"
      ],
      "execution_count": null,
      "outputs": []
    },
    {
      "cell_type": "code",
      "metadata": {
        "id": "GS1uxSK_qQWg",
        "colab": {
          "base_uri": "https://localhost:8080/"
        },
        "outputId": "0413d0d6-6bc7-4a15-a1ea-1a3fbbec4fc3"
      },
      "source": [
        "model = LinReg(n_features)\n",
        "model.load_state_dict(torch.load(model_file))"
      ],
      "execution_count": null,
      "outputs": [
        {
          "output_type": "execute_result",
          "data": {
            "text/plain": [
              "<All keys matched successfully>"
            ]
          },
          "metadata": {
            "tags": []
          },
          "execution_count": 41
        }
      ]
    },
    {
      "cell_type": "markdown",
      "metadata": {
        "id": "zD7W1akkpyki"
      },
      "source": [
        "#### Storing and loading full_model"
      ]
    },
    {
      "cell_type": "code",
      "metadata": {
        "id": "t0PFTaKrrGq0"
      },
      "source": [
        "model_file = \"model_123.pt\"\n",
        "torch.save(model, model_file)"
      ],
      "execution_count": null,
      "outputs": []
    },
    {
      "cell_type": "code",
      "metadata": {
        "id": "0K-725A0rHJu"
      },
      "source": [
        "# Only works if code for `LinReg` module is available right now\n",
        "model = torch.load(model_file)"
      ],
      "execution_count": null,
      "outputs": []
    },
    {
      "cell_type": "markdown",
      "metadata": {
        "id": "bGLQdaZ4py0h"
      },
      "source": [
        "#### Sample Checkpointing\n",
        "You can store model, optimizer and arbitrary information and reload it.\n",
        "\n",
        "Example:\n",
        "```python\n",
        "torch.save(\n",
        "    {\n",
        "        'model_state_dict': model.state_dict(),\n",
        "        'optimizer_state_dict': optimizer.state_dict(),\n",
        "        'epoch': epoch,\n",
        "        'loss': loss,\n",
        "    },\n",
        "    PATH,\n",
        ")\n",
        "```"
      ]
    }
  ]
}